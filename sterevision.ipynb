{
 "cells": [
  {
   "cell_type": "code",
   "execution_count": 82,
   "metadata": {},
   "outputs": [
    {
     "name": "stdout",
     "output_type": "stream",
     "text": [
      "264\n",
      "(264, 264)\n"
     ]
    },
    {
     "data": {
      "image/png": "[encoded data removed]",
      "text/plain": [
       "<Figure size 640x480 with 1 Axes>"
      ]
     },
     "metadata": {},
     "output_type": "display_data"
    },
    {
     "name": "stdout",
     "output_type": "stream",
     "text": [
      "center_image1 [[136.5        136.5       ]\n",
      " [136.41666667 156.5       ]\n",
      " [136.5        176.5       ]\n",
      " [136.4375     146.5       ]\n",
      " [136.4375     166.5       ]\n",
      " [143.33333333 143.33333333]\n",
      " [149.66666667 149.66666667]\n",
      " [156.41666667 136.5       ]\n",
      " [156.5        156.5       ]\n",
      " [176.41666667 136.5       ]\n",
      " [196.41666667 136.5       ]\n",
      " [216.41666667 136.5       ]\n",
      " [236.41666667 136.5       ]\n",
      " [256.5        136.5       ]]\n",
      "center_image2 [[136.5        136.5       ]\n",
      " [136.45833333 156.5       ]\n",
      " [136.5        176.5       ]\n",
      " [136.375      146.5       ]\n",
      " [136.375      166.5       ]\n",
      " [143.33333333 143.33333333]\n",
      " [146.375      136.5       ]\n",
      " [149.66666667 149.66666667]\n",
      " [156.46428571 156.5       ]\n",
      " [156.45833333 136.5       ]\n",
      " [166.375      136.5       ]\n",
      " [176.45833333 136.5       ]\n",
      " [186.375      136.5       ]\n",
      " [196.45833333 136.5       ]\n",
      " [206.375      136.5       ]\n",
      " [216.5        136.5       ]]\n"
     ]
    }
   ],
   "source": [
    "import numpy as np\n",
    "import cv2 as cv\n",
    "import matplotlib.pyplot as plt\n",
    "import os\n",
    "from mpl_toolkits.mplot3d import Axes3D\n",
    "\n",
    "# Load the data\n",
    "binary_image1 = np.load('CerclesI1.npy')\n",
    "print(binary_image1.shape[0])\n",
    "binary_image2 = np.load('CerclesI2.npy')\n",
    "print(binary_image2.shape)\n",
    "center_image1= np.load('CerclesC1.npy')\n",
    "plt.imshow(binary_image1)\n",
    "plt.show()\n",
    "print(\"center_image1\",center_image1)\n",
    "center_image2= np.load('CerclesC2.npy')\n",
    "print(\"center_image2\",center_image2)"
   ]
  },
  {
   "cell_type": "code",
   "execution_count": 83,
   "metadata": {},
   "outputs": [
    {
     "name": "stdout",
     "output_type": "stream",
     "text": [
      "[[0.   0.   0.  ]\n",
      " [0.7  0.7  0.  ]\n",
      " [0.   1.   0.  ]\n",
      " [1.31 1.31 0.  ]\n",
      " [0.   2.   0.  ]\n",
      " [2.   2.   0.  ]\n",
      " [0.   3.   0.  ]\n",
      " [0.   4.   0.  ]]\n",
      "[[[136.5     136.5    ]]\n",
      "\n",
      " [[143.33333 143.33333]]\n",
      "\n",
      " [[136.375   146.5    ]]\n",
      "\n",
      " [[149.66667 149.66667]]\n",
      "\n",
      " [[136.45833 156.5    ]]\n",
      "\n",
      " [[156.46428 156.5    ]]\n",
      "\n",
      " [[136.375   166.5    ]]\n",
      "\n",
      " [[136.5     176.5    ]]]\n"
     ]
    }
   ],
   "source": [
    "# Object points in 3D space\n",
    "objp = np.array([\n",
    "    [0, 0, 0],\n",
    "    [0.7,0.7,0],\n",
    "    [0, 1, 0],\n",
    "    [1.31,1.31,0],   \n",
    "    [0, 2, 0],\n",
    "    [2,2,0],\n",
    "    [0, 3, 0],\n",
    "    [0, 4, 0],\n",
    "    \n",
    "    \n",
    "\n",
    "\n",
    "], dtype=np.float32)\n",
    "print(objp)\n",
    "# Image points in 2D space for image 1\n",
    "import numpy as np\n",
    "\n",
    "# Assuming `center_image1` and `center_image2` are arrays or lists containing coordinates\n",
    "\n",
    "# Image points in 2D space for image 1\n",
    "imgpoints1 = np.array([\n",
    "    [center_image1[0][0], center_image1[0][1]],\n",
    "    [center_image1[5][0], center_image1[5][1]],\n",
    "    [center_image1[3][0], center_image1[3][1]],\n",
    "    [center_image1[6][0], center_image1[6][1]],\n",
    "    [center_image1[1][0], center_image1[1][1]],\n",
    "    [center_image1[8][0], center_image1[8][1]],\n",
    "    [center_image1[4][0], center_image1[4][1]],\n",
    "    [center_image1[2][0], center_image1[2][1]],\n",
    "   \n",
    "    \n",
    "\n",
    "], dtype=np.float32)\n",
    "imgpoints1 = np.reshape(imgpoints1, (-1,1,2))\n",
    "# Image points in 2D space for image 2\n",
    "imgpoints2 = np.array([\n",
    "    [center_image2[0][0], center_image2[0][1]],\n",
    "    [center_image2[5][0], center_image2[5][1]],\n",
    "    [center_image2[3][0], center_image2[3][1]],\n",
    "    [center_image2[7][0], center_image2[7][1]],\n",
    "    [center_image2[1][0], center_image2[1][1]],\n",
    "    [center_image2[8][0], center_image2[8][1]],\n",
    "    \n",
    "    [center_image2[4][0], center_image2[4][1]],\n",
    "    [center_image2[2][0], center_image2[2][1]],\n",
    "    \n",
    "\n",
    "], dtype=np.float32)\n",
    "imgpoints2 = np.reshape(imgpoints2, (-1,1,2))\n",
    "print(imgpoints2)"
   ]
  },
  {
   "cell_type": "code",
   "execution_count": null,
   "metadata": {},
   "outputs": [],
   "source": [
    "img = cv.imread(\"CerclesC1.png\")\n",
    "gray = cv.cvtColor(img, cv.COLOR_BGR2GRAY)"
   ]
  },
  {
   "cell_type": "code",
   "execution_count": 100,
   "metadata": {},
   "outputs": [],
   "source": [
    "objpoints = [] # 3d point in real world space\n",
    "imgpoints = [] # 2d points in image plane.\n",
    "image_size = (binary_image1.shape[0], binary_image1.shape[1])\n",
    "# Here, you need to specify your initial guess for the intrinsic matrix\n",
    "initial_intrinsic_matrix = np.array([[7.5, 0, len(gray)/2],\n",
    "                                     [0, 7.5, len(gray)/2],\n",
    "                                     [0, 0, 1]])\n",
    "for imgp in [imgpoints1,imgpoints2]:\n",
    "    objpoints.append(objp)\n",
    "    imgpoints.append(imgp)\n",
    "\n",
    "    ret,mtx,dist,rvecs,tvecs = cv.calibrateCamera(objpoints,imgpoints, gray.shape[::-1], initial_intrinsic_matrix,None,None, flags=cv.CALIB_USE_INTRINSIC_GUESS)"
   ]
  },
  {
   "cell_type": "code",
   "execution_count": 101,
   "metadata": {},
   "outputs": [
    {
     "name": "stdout",
     "output_type": "stream",
     "text": [
      "(array([[ 3.37097751e-05],\n",
      "       [-1.23806283e-04],\n",
      "       [-9.52385366e-04]]), array([[ 3.85115359e-05],\n",
      "       [-1.00756419e-04],\n",
      "       [-6.32689970e-04]]))\n",
      "rvecs1 [[ 3.37097751e-05]\n",
      " [-1.23806283e-04]\n",
      " [-9.52385366e-04]]\n",
      "rvecs2 [[ 3.85115359e-05]\n",
      " [-1.00756419e-04]\n",
      " [-6.32689970e-04]]\n",
      "(rvecs[0])[0]  [3.37097751e-05]\n",
      "rmatRight [[ 9.99999539e-01  9.52383133e-04 -1.23822316e-04]\n",
      " [-9.52387307e-04  9.99999546e-01 -3.36508143e-05]\n",
      " [ 1.23790211e-04  3.37687255e-05  9.99999992e-01]]\n",
      "tvecs[0] [[-10.3431257 ]\n",
      " [-10.34005491]\n",
      " [  0.7489862 ]]\n",
      "tvecs[1] [[-10.3444483 ]\n",
      " [-10.34053421]\n",
      " [  0.74901851]]\n"
     ]
    }
   ],
   "source": [
    "print(rvecs)\n",
    "print(\"rvecs1\",rvecs[0])\n",
    "print(\"rvecs2\",rvecs[1])\n",
    "##matrice de rotation => convertir le vecteur en matrice\n",
    "print(\"(rvecs[0])[0] \",(rvecs[0])[0] )\n",
    "rmatRight = cv.Rodrigues(rvecs[0])[0] \n",
    "print(\"rmatRight\",rmatRight)\n",
    "rmatLeft = cv.Rodrigues(rvecs[1])[0]  \n",
    "\n",
    "print(\"tvecs[0]\",tvecs[0])\n",
    "print(\"tvecs[1]\",tvecs[1])\n",
    "#matrice complète [R|t] => ajouter t dans R\n",
    "rotMatRight = np.concatenate((rmatRight,tvecs[0]), axis=1)\n",
    "rotMatLeft = np.concatenate((rmatLeft,tvecs[1]), axis=1)"
   ]
  },
  {
   "cell_type": "code",
   "execution_count": 126,
   "metadata": {},
   "outputs": [
    {
     "name": "stdout",
     "output_type": "stream",
     "text": [
      "[[10.33782835]\n",
      " [10.34704807]\n",
      " [-0.7504588 ]\n",
      " [ 1.        ]]\n",
      "Centre Gauche\n",
      " [[10.33782835]\n",
      " [10.34704807]\n",
      " [-0.7504588 ]\n",
      " [ 1.        ]]\n",
      "Centre Gauche\n",
      " [[10.33318048]\n",
      " [10.34987554]\n",
      " [-0.75061486]\n",
      " [ 1.        ]]\n"
     ]
    }
   ],
   "source": [
    "#matrice de la camera @ RT\n",
    "camLeft = mtx @ rotMatLeft\n",
    "camRight = mtx @ rotMatRight\n",
    "\n",
    "# trouver cx et cy (coo centre optique dans limage) pour les 2 cameras\n",
    "camWorldCenterLeft = np.linalg.inv(np.concatenate((rotMatLeft,[[0,0,0,1]]), axis=0)) @ np.transpose([[0,0,0,1]])\n",
    "print(camWorldCenterLeft)\n",
    "camWorldCenterRight = np.linalg.inv(np.concatenate((rotMatRight,[[0,0,0,1]]), axis=0)) @ np.transpose([[0,0,0,1]])\n",
    "print('Centre Gauche\\n',camWorldCenterLeft) #1colonne à 4lignes\n",
    "print('Centre Gauche\\n', camWorldCenterRight) #1colonne à 4lignes\n",
    "def crossMat(v):\n",
    "    v = v[:, 0]   # Matrice ligne afin d'accéder plus facilement aux valeurs v[1]...\n",
    "    return np.array([[0, -v[2], v[1]],\n",
    "                     [v[2], 0, -v[0]],\n",
    "                     [-v[1], v[0], 0]])\n",
    "\n",
    "def matFondamental(camLeft,centerRight,camRight):\n",
    "        \n",
    "        return np.array((crossMat(camLeft @ centerRight)) @ camLeft @ np.linalg.pinv(camRight))\n",
    "    \n"
   ]
  },
  {
   "cell_type": "code",
   "execution_count": 103,
   "metadata": {},
   "outputs": [],
   "source": [
    "def mark_circle_centers(binary_image, center_image):\n",
    "    # Create a new image with the same dimensions as binary_image\n",
    "    center_marked_image = np.zeros_like(binary_image)\n",
    "    \n",
    "    # Iterate through each center and mark it as 1\n",
    "    for center in center_image:\n",
    "        # Retrieve center coordinates\n",
    "        center_x, center_y = int(center[1]), int(center[0])  # Convert to integers\n",
    "        \n",
    "        # Ensure the center coordinates are within the bounds of the image\n",
    "        if 0 <= center_x < binary_image.shape[1] and 0 <= center_y < binary_image.shape[0]:\n",
    "            # Mark the center as 1 in the new image\n",
    "            center_marked_image[center_y, center_x] = 1\n",
    "    \n",
    "    return center_marked_image"
   ]
  },
  {
   "cell_type": "code",
   "execution_count": 104,
   "metadata": {},
   "outputs": [
    {
     "name": "stdout",
     "output_type": "stream",
     "text": [
      "Shape of center_marked_image1: [[0. 0. 0. ... 0. 0. 0.]\n",
      " [0. 0. 0. ... 0. 0. 0.]\n",
      " [0. 0. 0. ... 0. 0. 0.]\n",
      " ...\n",
      " [0. 0. 0. ... 0. 0. 0.]\n",
      " [0. 0. 0. ... 0. 0. 0.]\n",
      " [0. 0. 0. ... 0. 0. 0.]]\n",
      "Shape of center_marked_image2: (264, 264)\n"
     ]
    },
    {
     "data": {
      "image/png": "[encoded data removed]",
      "text/plain": [
       "<Figure size 640x480 with 1 Axes>"
      ]
     },
     "metadata": {},
     "output_type": "display_data"
    }
   ],
   "source": [
    "# Mark circle centers in both binary images\n",
    "center_marked_image1 = mark_circle_centers(binary_image1, center_image1)\n",
    "center_marked_image2 = mark_circle_centers(binary_image2, center_image2)\n",
    "\n",
    "# Display the shape of the new images\n",
    "print(\"Shape of center_marked_image1:\", center_marked_image1)\n",
    "print(\"Shape of center_marked_image2:\", center_marked_image2.shape)\n",
    "\n",
    "plt.imshow(center_marked_image1)\n",
    "plt.show()"
   ]
  },
  {
   "cell_type": "code",
   "execution_count": 105,
   "metadata": {},
   "outputs": [],
   "source": [
    "def getEpiLines(F, points):\n",
    "    return F @ points\n",
    "\n",
    "\n",
    "def findEpilines(path,center_image):\n",
    "    epilines = [] # liste de chaque point gauche associe à sa ligne epipolaire\n",
    "    for l in range(1):  #parcourt dossier images (26)\n",
    "        \n",
    "            strp = path \n",
    "    \n",
    "    strp = path\n",
    "    \n",
    "        \n",
    "        \n",
    "    red = mark_circle_centers(strp, center_image)\n",
    "    print(\"red\",red)\n",
    "    tempEpilines = []  #epiline associées a leurs points gauches temporairement \n",
    "    pointsLeft = [[],[],[]]\n",
    "#Trouver Les points left'''        \n",
    "    #i = lindice de chaque ligne epipolaire\n",
    "    for i, line in enumerate(red):  #line = une liste de pixels rouges\n",
    "        for pixel in line:\n",
    "            if pixel != 0:\n",
    "                pixel = 1\n",
    "        try:\n",
    "            #weighted average => (0*0 + 1*0 + 2*0 + ... + 1248 * 1 + 1249 * 0) / n° of red pixels\n",
    "            #for instance => (1261+1262+1267)/3 = 1263.33\n",
    "            #give position of the red line in x axis\n",
    "            pointsLeft[0].append(np.average(range(264), weights = line)) #calcul des points de chaque ligne epipolair\n",
    "                                    # moyenne pondere : on parcourt limage horizantalement de position 0 a position 1920\n",
    "                                    #ces positions sont multipliés par la valeur du pixel(0 ou 1 cad rouge ou non)\n",
    "            pointsLeft[1].append(i) # y axis\n",
    "            pointsLeft[2].append(1)  \n",
    "        except:\n",
    "            pass\n",
    "        #A partir de la ligne rouge de l'image de gauche, trouver l'épiline correspondante sur l'image de droite.\n",
    "        #Trouver les épilines sur l'image de droite de tous les points rouges de l'image de gauche.\n",
    "\n",
    "            #Calculer les epilines grace a la fonction getEpilines''' \n",
    "        \n",
    "    print(\"pointsLeft\",pointsLeft)    \n",
    "    epilinesRight = getEpiLines(Fondamental, pointsLeft)\n",
    "    \n",
    "    tempEpilines.append(pointsLeft)\n",
    "    tempEpilines.append(epilinesRight)\n",
    "    epilines.append(tempEpilines)  # # liste de chaque point gauche associe à sa aligne epipolaire\n",
    "    print(\"epilines\",epilines)\n",
    "    return epilines  "
   ]
  },
  {
   "cell_type": "code",
   "execution_count": 106,
   "metadata": {},
   "outputs": [
    {
     "name": "stdout",
     "output_type": "stream",
     "text": [
      "red [[0. 0. 0. ... 0. 0. 0.]\n",
      " [0. 0. 0. ... 0. 0. 0.]\n",
      " [0. 0. 0. ... 0. 0. 0.]\n",
      " ...\n",
      " [0. 0. 0. ... 0. 0. 0.]\n",
      " [0. 0. 0. ... 0. 0. 0.]\n",
      " [0. 0. 0. ... 0. 0. 0.]]\n",
      "pointsLeft [[156.0, 143.0, 136.0, 149.0, 146.0, 136.0, 136.0, 136.0, 136.0, 136.0, 136.0], [136, 143, 146, 149, 156, 166, 176, 186, 196, 206, 216], [1, 1, 1, 1, 1, 1, 1, 1, 1, 1, 1]]\n",
      "epilines [[[[156.0, 143.0, 136.0, 149.0, 146.0, 136.0, 136.0, 136.0, 136.0, 136.0, 136.0], [136, 143, 146, 149, 156, 166, 176, 186, 196, 206, 216], [1, 1, 1, 1, 1, 1, 1, 1, 1, 1, 1]], array([[-4.95973159e-03, -6.05518447e-03, -6.52464255e-03,\n",
      "        -6.99440487e-03, -8.09000987e-03, -9.65507296e-03,\n",
      "        -1.12202882e-02, -1.27855034e-02, -1.43507186e-02,\n",
      "        -1.59159338e-02, -1.74811490e-02],\n",
      "       [-4.79861504e-02, -5.00192090e-02, -5.11139884e-02,\n",
      "        -4.90802069e-02, -4.95489850e-02, -5.11125426e-02,\n",
      "        -5.11118197e-02, -5.11110968e-02, -5.11103739e-02,\n",
      "        -5.11096510e-02, -5.11089281e-02],\n",
      "       [ 7.29992309e+00,  8.01871856e+00,  8.35007516e+00,\n",
      "         8.35521222e+00,  8.91089792e+00,  9.79794021e+00,\n",
      "         1.05218727e+01,  1.12458053e+01,  1.19697378e+01,\n",
      "         1.26936703e+01,  1.34176029e+01]])]]\n",
      "coef , length  3 11\n",
      "(1, 2, 3, 11)\n",
      "[[-4.95973159e-03 -6.05518447e-03 -6.52464255e-03 -6.99440487e-03\n",
      "  -8.09000987e-03 -9.65507296e-03 -1.12202882e-02 -1.27855034e-02\n",
      "  -1.43507186e-02 -1.59159338e-02 -1.74811490e-02]\n",
      " [-4.79861504e-02 -5.00192090e-02 -5.11139884e-02 -4.90802069e-02\n",
      "  -4.95489850e-02 -5.11125426e-02 -5.11118197e-02 -5.11110968e-02\n",
      "  -5.11103739e-02 -5.11096510e-02 -5.11089281e-02]\n",
      " [ 7.29992309e+00  8.01871856e+00  8.35007516e+00  8.35521222e+00\n",
      "   8.91089792e+00  9.79794021e+00  1.05218727e+01  1.12458053e+01\n",
      "   1.19697378e+01  1.26936703e+01  1.34176029e+01]]\n"
     ]
    }
   ],
   "source": [
    "Fondamental = matFondamental(camRight,camWorldCenterLeft,camLeft)\n",
    "\n",
    "\n",
    "epl = findEpilines(binary_image2, center_image2)  #liste de chaque point gauche associe à sa lignes epipolaires de la camera droite stocke sous forme de matrice a 2 colonnes\n",
    "#scan gauche vers droite\n",
    "epl= np.array(epl)\n",
    "coef , length = epl[0][1].shape\n",
    "print(\"coef , length \",coef , length )\n",
    "print(epl.shape)\n",
    "print(epl[0][1])\n",
    "\n",
    "def lineY(coefs,x):\n",
    "    a,b,c = coefs\n",
    "    return-(c+a*x)/b"
   ]
  },
  {
   "cell_type": "code",
   "execution_count": 122,
   "metadata": {},
   "outputs": [
    {
     "name": "stdout",
     "output_type": "stream",
     "text": [
      "[[-4.95973159e-03 -6.05518447e-03 -6.52464255e-03 -6.99440487e-03\n",
      "  -8.09000987e-03 -9.65507296e-03 -1.12202882e-02 -1.27855034e-02\n",
      "  -1.43507186e-02 -1.59159338e-02 -1.74811490e-02]\n",
      " [-4.79861504e-02 -5.00192090e-02 -5.11139884e-02 -4.90802069e-02\n",
      "  -4.95489850e-02 -5.11125426e-02 -5.11118197e-02 -5.11110968e-02\n",
      "  -5.11103739e-02 -5.11096510e-02 -5.11089281e-02]\n",
      " [ 7.29992309e+00  8.01871856e+00  8.35007516e+00  8.35521222e+00\n",
      "   8.91089792e+00  9.79794021e+00  1.05218727e+01  1.12458053e+01\n",
      "   1.19697378e+01  1.26936703e+01  1.34176029e+01]]\n",
      "3\n",
      "11\n",
      "3\n",
      "11\n"
     ]
    },
    {
     "data": {
      "image/png": "[encoded data removed]",
      "text/plain": [
       "<Figure size 640x480 with 1 Axes>"
      ]
     },
     "metadata": {},
     "output_type": "display_data"
    }
   ],
   "source": [
    "def drawEpl(fname,EplRight):\n",
    "    print(EplRight)\n",
    "    #img = cv.imread(fname)\n",
    "    img=fname\n",
    "    \n",
    "    coef , length = EplRight.shape #shape=number of elements in each dimension.\n",
    "                                    #coef= nbre de lignes , length = nbre colonnes\n",
    "    print(coef)\n",
    "    print(length)\n",
    "    print(coef)\n",
    "    print(length)\n",
    "    \n",
    "    for i in range(0,length): #40 = le pas, pn dessine les epilines avec un intervalle de 40 verticalement donc jsq 1080\n",
    "        plt.plot([0,264],[lineY(EplRight[:,i],0),lineY(EplRight[:,i],264)],'y')\n",
    "        \n",
    "        \n",
    "    plt.imshow(img)\n",
    "    plt.show()\n",
    "drawEpl(binary_image2,epl[0][1])"
   ]
  },
  {
   "cell_type": "code",
   "execution_count": 70,
   "metadata": {},
   "outputs": [
    {
     "data": {
      "image/png": "[encoded data removed]",
      "text/plain": [
       "<Figure size 640x480 with 1 Axes>"
      ]
     },
     "metadata": {},
     "output_type": "display_data"
    }
   ],
   "source": [
    "img = cv.imread(\"CerclesI1.png\")\n",
    "plt.imshow(binary_image1)\n",
    "plt.show()"
   ]
  },
  {
   "cell_type": "code",
   "execution_count": 125,
   "metadata": {},
   "outputs": [
    {
     "name": "stdout",
     "output_type": "stream",
     "text": [
      "[[10.33782835]\n",
      " [10.34704807]\n",
      " [-0.7504588 ]\n",
      " [ 1.        ]]\n"
     ]
    },
    {
     "ename": "error",
     "evalue": "OpenCV(4.9.0) D:\\a\\opencv-python\\opencv-python\\opencv\\modules\\calib3d\\src\\triangulate.cpp:75: error: (-209:Sizes of input arguments do not match) Number of proj points coordinates must be == 2 in function 'icvTriangulatePoints'\n",
     "output_type": "error",
     "traceback": [
      "\u001b[1;31m---------------------------------------------------------------------------\u001b[0m",
      "\u001b[1;31merror\u001b[0m                                     Traceback (most recent call last)",
      "Cell \u001b[1;32mIn[125], line 57\u001b[0m\n\u001b[0;32m     40\u001b[0m epilines \u001b[38;5;241m=\u001b[39m [[[\u001b[38;5;241m156.0\u001b[39m, \u001b[38;5;241m143.0\u001b[39m, \u001b[38;5;241m136.0\u001b[39m, \u001b[38;5;241m149.0\u001b[39m, \u001b[38;5;241m146.0\u001b[39m, \u001b[38;5;241m136.0\u001b[39m, \u001b[38;5;241m136.0\u001b[39m, \u001b[38;5;241m136.0\u001b[39m, \u001b[38;5;241m136.0\u001b[39m, \u001b[38;5;241m136.0\u001b[39m, \u001b[38;5;241m136.0\u001b[39m],\n\u001b[0;32m     41\u001b[0m              [\u001b[38;5;241m136\u001b[39m, \u001b[38;5;241m143\u001b[39m, \u001b[38;5;241m146\u001b[39m, \u001b[38;5;241m149\u001b[39m, \u001b[38;5;241m156\u001b[39m, \u001b[38;5;241m166\u001b[39m, \u001b[38;5;241m176\u001b[39m, \u001b[38;5;241m186\u001b[39m, \u001b[38;5;241m196\u001b[39m, \u001b[38;5;241m206\u001b[39m, \u001b[38;5;241m216\u001b[39m],\n\u001b[0;32m     42\u001b[0m              [\u001b[38;5;241m1\u001b[39m, \u001b[38;5;241m1\u001b[39m, \u001b[38;5;241m1\u001b[39m, \u001b[38;5;241m1\u001b[39m, \u001b[38;5;241m1\u001b[39m, \u001b[38;5;241m1\u001b[39m, \u001b[38;5;241m1\u001b[39m, \u001b[38;5;241m1\u001b[39m, \u001b[38;5;241m1\u001b[39m, \u001b[38;5;241m1\u001b[39m, \u001b[38;5;241m1\u001b[39m]],\n\u001b[1;32m   (...)\u001b[0m\n\u001b[0;32m     53\u001b[0m               \u001b[38;5;241m1.05218727e+01\u001b[39m, \u001b[38;5;241m1.12458053e+01\u001b[39m, \u001b[38;5;241m1.19697378e+01\u001b[39m,\n\u001b[0;32m     54\u001b[0m               \u001b[38;5;241m1.26936703e+01\u001b[39m, \u001b[38;5;241m1.34176029e+01\u001b[39m]]]\n\u001b[0;32m     56\u001b[0m \u001b[38;5;66;03m# Appelez la fonction pour trianguler les points\u001b[39;00m\n\u001b[1;32m---> 57\u001b[0m points_3d \u001b[38;5;241m=\u001b[39m \u001b[43mtriangulate_points\u001b[49m\u001b[43m(\u001b[49m\u001b[43mpoints_left\u001b[49m\u001b[43m,\u001b[49m\u001b[43m \u001b[49m\u001b[43mepilines\u001b[49m\u001b[43m,\u001b[49m\u001b[43m \u001b[49m\u001b[43mcam_matrix_left\u001b[49m\u001b[43m,\u001b[49m\u001b[43m \u001b[49m\u001b[43mcam_matrix_right\u001b[49m\u001b[43m)\u001b[49m\n",
      "Cell \u001b[1;32mIn[125], line 24\u001b[0m, in \u001b[0;36mtriangulate_points\u001b[1;34m(points_left, epilines, cam_matrix_left, cam_matrix_right)\u001b[0m\n\u001b[0;32m     20\u001b[0m point_right \u001b[38;5;241m=\u001b[39m np\u001b[38;5;241m.\u001b[39marray([x_right, y_left, \u001b[38;5;241m1\u001b[39m])\n\u001b[0;32m     22\u001b[0m \u001b[38;5;66;03m# Triangulation\u001b[39;00m\n\u001b[0;32m     23\u001b[0m \u001b[38;5;66;03m# Utilisez la fonction de triangulation OpenCV pour trouver la position 3D du point\u001b[39;00m\n\u001b[1;32m---> 24\u001b[0m point_3d_homogeneous \u001b[38;5;241m=\u001b[39m \u001b[43mcv\u001b[49m\u001b[38;5;241;43m.\u001b[39;49m\u001b[43mtriangulatePoints\u001b[49m\u001b[43m(\u001b[49m\u001b[43mcam_matrix_left\u001b[49m\u001b[43m,\u001b[49m\u001b[43m \u001b[49m\u001b[43mcam_matrix_right\u001b[49m\u001b[43m,\u001b[49m\u001b[43m \u001b[49m\u001b[43mpoint_left\u001b[49m\u001b[43m,\u001b[49m\u001b[43m \u001b[49m\u001b[43mpoint_right\u001b[49m\u001b[43m)\u001b[49m\n\u001b[0;32m     25\u001b[0m point_3d \u001b[38;5;241m=\u001b[39m point_3d_homogeneous[:\u001b[38;5;241m3\u001b[39m] \u001b[38;5;241m/\u001b[39m point_3d_homogeneous[\u001b[38;5;241m3\u001b[39m]  \u001b[38;5;66;03m# Convertir en coordonnées 3D\u001b[39;00m\n\u001b[0;32m     27\u001b[0m points_3d\u001b[38;5;241m.\u001b[39mappend(point_3d)\n",
      "\u001b[1;31merror\u001b[0m: OpenCV(4.9.0) D:\\a\\opencv-python\\opencv-python\\opencv\\modules\\calib3d\\src\\triangulate.cpp:75: error: (-209:Sizes of input arguments do not match) Number of proj points coordinates must be == 2 in function 'icvTriangulatePoints'\n"
     ]
    }
   ],
   "source": [
    "def triangulate_points(points_left, epilines, cam_matrix_left, cam_matrix_right):\n",
    "    points_3d = []\n",
    "    \n",
    "    for i in range(len(points_left[0])):\n",
    "        # Obtenez les coordonnées du point sur l'image gauche\n",
    "        x_left = points_left[0][i]\n",
    "        y_left = points_left[1][i]\n",
    "        # Construisez le vecteur du point sur l'image gauche\n",
    "        point_left = np.array([x_left, y_left, 1])\n",
    "        \n",
    "        # Obtenez la ligne épipolaire correspondante\n",
    "        # Obtenez la ligne épipolaire correspondante\n",
    "        epiline = epilines[1][i]\n",
    "\n",
    "        \n",
    "        # Calculer la coordonnée x du point correspondant sur l'image droite\n",
    "        x_right = (-epiline[2] - epiline[1] * y_left) / epiline[0]\n",
    "        \n",
    "        # Construisez le vecteur du point sur l'image droite\n",
    "        point_right = np.array([x_right, y_left, 1])\n",
    "        \n",
    "        # Triangulation\n",
    "        # Utilisez la fonction de triangulation OpenCV pour trouver la position 3D du point\n",
    "        point_3d_homogeneous = cv.triangulatePoints(cam_matrix_left, cam_matrix_right, point_left, point_right)\n",
    "        point_3d = point_3d_homogeneous[:3] / point_3d_homogeneous[3]  # Convertir en coordonnées 3D\n",
    "        \n",
    "        points_3d.append(point_3d)\n",
    "    \n",
    "    return np.array(points_3d)\n",
    "\n",
    "# Supposons que vous avez déjà les matrices de caméra gauche et droite\n",
    "cam_matrix_left = camWorldCenterLeft\n",
    "cam_matrix_right = camWorldCenterRight # Supposons que les matrices de caméra sont les mêmes pour la simplicité\n",
    "print(cam_matrix_left)\n",
    "\n",
    "# Supposons que vous avez les points sur l'image gauche et les lignes épipolaires correspondantes\n",
    "points_left = np.array([[156.0, 143.0, 136.0, 149.0, 146.0, 136.0, 136.0, 136.0, 136.0, 136.0, 136.0],\n",
    "                        [136, 143, 146, 149, 156, 166, 176, 186, 196, 206, 216],\n",
    "                        [1, 1, 1, 1, 1, 1, 1, 1, 1, 1, 1]])\n",
    "epilines = [[[156.0, 143.0, 136.0, 149.0, 146.0, 136.0, 136.0, 136.0, 136.0, 136.0, 136.0],\n",
    "             [136, 143, 146, 149, 156, 166, 176, 186, 196, 206, 216],\n",
    "             [1, 1, 1, 1, 1, 1, 1, 1, 1, 1, 1]],\n",
    "            [[-4.95973159e-03, -6.05518447e-03, -6.52464255e-03,\n",
    "              -6.99440487e-03, -8.09000987e-03, -9.65507296e-03,\n",
    "              -1.12202882e-02, -1.27855034e-02, -1.43507186e-02,\n",
    "              -1.59159338e-02, -1.74811490e-02],\n",
    "             [-4.79861504e-02, -5.00192090e-02, -5.11139884e-02,\n",
    "              -4.90802069e-02, -4.95489850e-02, -5.11125426e-02,\n",
    "              -5.11118197e-02, -5.11110968e-02, -5.11103739e-02,\n",
    "              -5.11096510e-02, -5.11089281e-02],\n",
    "             [7.29992309e+00, 8.01871856e+00, 8.35007516e+00,\n",
    "              8.35521222e+00, 8.91089792e+00, 9.79794021e+00,\n",
    "              1.05218727e+01, 1.12458053e+01, 1.19697378e+01,\n",
    "              1.26936703e+01, 1.34176029e+01]]]\n",
    "\n",
    "# Appelez la fonction pour trianguler les points\n",
    "points_3d = triangulate_points(points_left, epilines, cam_matrix_left, cam_matrix_right)\n"
   ]
  }
 ],
 "metadata": {
  "kernelspec": {
   "display_name": "Python 3",
   "language": "python",
   "name": "python3"
  },
  "language_info": {
   "codemirror_mode": {
    "name": "ipython",
    "version": 3
   },
   "file_extension": ".py",
   "mimetype": "text/x-python",
   "name": "python",
   "nbconvert_exporter": "python",
   "pygments_lexer": "ipython3",
   "version": "3.12.2"
  }
 },
 "nbformat": 4,
 "nbformat_minor": 2
}
